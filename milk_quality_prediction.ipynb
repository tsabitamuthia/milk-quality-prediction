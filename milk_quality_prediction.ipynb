{
  "nbformat": 4,
  "nbformat_minor": 0,
  "metadata": {
    "colab": {
      "provenance": []
    },
    "kernelspec": {
      "name": "python3",
      "display_name": "Python 3"
    },
    "language_info": {
      "name": "python"
    }
  },
  "cells": [
    {
      "cell_type": "markdown",
      "source": [
        "Kelompok 4 :\n",
        "\n",
        " Adinda Fatimah Az-Zahra - 215150201111058\n",
        "\n",
        " Tsabita Muthia Ayu Pramesti - 215150201111070\n",
        "\n",
        " Shania Edina - 215150201111020\n",
        "\n",
        " Lintang Cahyaning Suikma - 215150201111056"
      ],
      "metadata": {
        "id": "a1hwBfWSHrkj"
      }
    },
    {
      "cell_type": "code",
      "source": [
        "from google.colab import drive\n",
        "drive.mount('/content/drive')"
      ],
      "metadata": {
        "colab": {
          "base_uri": "https://localhost:8080/"
        },
        "id": "dcFIEOUhpAae",
        "outputId": "34272527-4397-4579-903d-e6dea83305cf"
      },
      "execution_count": null,
      "outputs": [
        {
          "output_type": "stream",
          "name": "stdout",
          "text": [
            "Mounted at /content/drive\n"
          ]
        }
      ]
    },
    {
      "cell_type": "code",
      "source": [
        "import pandas as pd\n",
        "import numpy as np\n",
        "import matplotlib.pyplot as plt\n",
        "import seaborn as sns\n",
        "import warnings"
      ],
      "metadata": {
        "id": "8u8qz67OqF_d"
      },
      "execution_count": null,
      "outputs": []
    },
    {
      "cell_type": "code",
      "source": [
        "df = pd.read_csv('/content/drive/My Drive/milknew.csv')\n",
        "df.columns = ['pH','Temprature','Taste','Odor','Fat ','Turbidity','Colour','Grade']\n",
        "df.head()"
      ],
      "metadata": {
        "colab": {
          "base_uri": "https://localhost:8080/",
          "height": 206
        },
        "id": "n6knoEq_pPIU",
        "outputId": "e623dffc-0eca-4c6d-dd81-55b9fe5437ce"
      },
      "execution_count": null,
      "outputs": [
        {
          "output_type": "execute_result",
          "data": {
            "text/plain": [
              "    pH  Temprature  Taste  Odor  Fat   Turbidity  Colour   Grade\n",
              "0  6.6          35      1     0     1          0     254    high\n",
              "1  6.6          36      0     1     0          1     253    high\n",
              "2  8.5          70      1     1     1          1     246     low\n",
              "3  9.5          34      1     1     0          1     255     low\n",
              "4  6.6          37      0     0     0          0     255  medium"
            ],
            "text/html": [
              "\n",
              "  <div id=\"df-d2cf45ce-74d4-42c3-925c-8b768000d0cc\" class=\"colab-df-container\">\n",
              "    <div>\n",
              "<style scoped>\n",
              "    .dataframe tbody tr th:only-of-type {\n",
              "        vertical-align: middle;\n",
              "    }\n",
              "\n",
              "    .dataframe tbody tr th {\n",
              "        vertical-align: top;\n",
              "    }\n",
              "\n",
              "    .dataframe thead th {\n",
              "        text-align: right;\n",
              "    }\n",
              "</style>\n",
              "<table border=\"1\" class=\"dataframe\">\n",
              "  <thead>\n",
              "    <tr style=\"text-align: right;\">\n",
              "      <th></th>\n",
              "      <th>pH</th>\n",
              "      <th>Temprature</th>\n",
              "      <th>Taste</th>\n",
              "      <th>Odor</th>\n",
              "      <th>Fat</th>\n",
              "      <th>Turbidity</th>\n",
              "      <th>Colour</th>\n",
              "      <th>Grade</th>\n",
              "    </tr>\n",
              "  </thead>\n",
              "  <tbody>\n",
              "    <tr>\n",
              "      <th>0</th>\n",
              "      <td>6.6</td>\n",
              "      <td>35</td>\n",
              "      <td>1</td>\n",
              "      <td>0</td>\n",
              "      <td>1</td>\n",
              "      <td>0</td>\n",
              "      <td>254</td>\n",
              "      <td>high</td>\n",
              "    </tr>\n",
              "    <tr>\n",
              "      <th>1</th>\n",
              "      <td>6.6</td>\n",
              "      <td>36</td>\n",
              "      <td>0</td>\n",
              "      <td>1</td>\n",
              "      <td>0</td>\n",
              "      <td>1</td>\n",
              "      <td>253</td>\n",
              "      <td>high</td>\n",
              "    </tr>\n",
              "    <tr>\n",
              "      <th>2</th>\n",
              "      <td>8.5</td>\n",
              "      <td>70</td>\n",
              "      <td>1</td>\n",
              "      <td>1</td>\n",
              "      <td>1</td>\n",
              "      <td>1</td>\n",
              "      <td>246</td>\n",
              "      <td>low</td>\n",
              "    </tr>\n",
              "    <tr>\n",
              "      <th>3</th>\n",
              "      <td>9.5</td>\n",
              "      <td>34</td>\n",
              "      <td>1</td>\n",
              "      <td>1</td>\n",
              "      <td>0</td>\n",
              "      <td>1</td>\n",
              "      <td>255</td>\n",
              "      <td>low</td>\n",
              "    </tr>\n",
              "    <tr>\n",
              "      <th>4</th>\n",
              "      <td>6.6</td>\n",
              "      <td>37</td>\n",
              "      <td>0</td>\n",
              "      <td>0</td>\n",
              "      <td>0</td>\n",
              "      <td>0</td>\n",
              "      <td>255</td>\n",
              "      <td>medium</td>\n",
              "    </tr>\n",
              "  </tbody>\n",
              "</table>\n",
              "</div>\n",
              "    <div class=\"colab-df-buttons\">\n",
              "\n",
              "  <div class=\"colab-df-container\">\n",
              "    <button class=\"colab-df-convert\" onclick=\"convertToInteractive('df-d2cf45ce-74d4-42c3-925c-8b768000d0cc')\"\n",
              "            title=\"Convert this dataframe to an interactive table.\"\n",
              "            style=\"display:none;\">\n",
              "\n",
              "  <svg xmlns=\"http://www.w3.org/2000/svg\" height=\"24px\" viewBox=\"0 -960 960 960\">\n",
              "    <path d=\"M120-120v-720h720v720H120Zm60-500h600v-160H180v160Zm220 220h160v-160H400v160Zm0 220h160v-160H400v160ZM180-400h160v-160H180v160Zm440 0h160v-160H620v160ZM180-180h160v-160H180v160Zm440 0h160v-160H620v160Z\"/>\n",
              "  </svg>\n",
              "    </button>\n",
              "\n",
              "  <style>\n",
              "    .colab-df-container {\n",
              "      display:flex;\n",
              "      gap: 12px;\n",
              "    }\n",
              "\n",
              "    .colab-df-convert {\n",
              "      background-color: #E8F0FE;\n",
              "      border: none;\n",
              "      border-radius: 50%;\n",
              "      cursor: pointer;\n",
              "      display: none;\n",
              "      fill: #1967D2;\n",
              "      height: 32px;\n",
              "      padding: 0 0 0 0;\n",
              "      width: 32px;\n",
              "    }\n",
              "\n",
              "    .colab-df-convert:hover {\n",
              "      background-color: #E2EBFA;\n",
              "      box-shadow: 0px 1px 2px rgba(60, 64, 67, 0.3), 0px 1px 3px 1px rgba(60, 64, 67, 0.15);\n",
              "      fill: #174EA6;\n",
              "    }\n",
              "\n",
              "    .colab-df-buttons div {\n",
              "      margin-bottom: 4px;\n",
              "    }\n",
              "\n",
              "    [theme=dark] .colab-df-convert {\n",
              "      background-color: #3B4455;\n",
              "      fill: #D2E3FC;\n",
              "    }\n",
              "\n",
              "    [theme=dark] .colab-df-convert:hover {\n",
              "      background-color: #434B5C;\n",
              "      box-shadow: 0px 1px 3px 1px rgba(0, 0, 0, 0.15);\n",
              "      filter: drop-shadow(0px 1px 2px rgba(0, 0, 0, 0.3));\n",
              "      fill: #FFFFFF;\n",
              "    }\n",
              "  </style>\n",
              "\n",
              "    <script>\n",
              "      const buttonEl =\n",
              "        document.querySelector('#df-d2cf45ce-74d4-42c3-925c-8b768000d0cc button.colab-df-convert');\n",
              "      buttonEl.style.display =\n",
              "        google.colab.kernel.accessAllowed ? 'block' : 'none';\n",
              "\n",
              "      async function convertToInteractive(key) {\n",
              "        const element = document.querySelector('#df-d2cf45ce-74d4-42c3-925c-8b768000d0cc');\n",
              "        const dataTable =\n",
              "          await google.colab.kernel.invokeFunction('convertToInteractive',\n",
              "                                                    [key], {});\n",
              "        if (!dataTable) return;\n",
              "\n",
              "        const docLinkHtml = 'Like what you see? Visit the ' +\n",
              "          '<a target=\"_blank\" href=https://colab.research.google.com/notebooks/data_table.ipynb>data table notebook</a>'\n",
              "          + ' to learn more about interactive tables.';\n",
              "        element.innerHTML = '';\n",
              "        dataTable['output_type'] = 'display_data';\n",
              "        await google.colab.output.renderOutput(dataTable, element);\n",
              "        const docLink = document.createElement('div');\n",
              "        docLink.innerHTML = docLinkHtml;\n",
              "        element.appendChild(docLink);\n",
              "      }\n",
              "    </script>\n",
              "  </div>\n",
              "\n",
              "\n",
              "<div id=\"df-2a5a19a5-e797-44e0-b186-2b10f44790e4\">\n",
              "  <button class=\"colab-df-quickchart\" onclick=\"quickchart('df-2a5a19a5-e797-44e0-b186-2b10f44790e4')\"\n",
              "            title=\"Suggest charts\"\n",
              "            style=\"display:none;\">\n",
              "\n",
              "<svg xmlns=\"http://www.w3.org/2000/svg\" height=\"24px\"viewBox=\"0 0 24 24\"\n",
              "     width=\"24px\">\n",
              "    <g>\n",
              "        <path d=\"M19 3H5c-1.1 0-2 .9-2 2v14c0 1.1.9 2 2 2h14c1.1 0 2-.9 2-2V5c0-1.1-.9-2-2-2zM9 17H7v-7h2v7zm4 0h-2V7h2v10zm4 0h-2v-4h2v4z\"/>\n",
              "    </g>\n",
              "</svg>\n",
              "  </button>\n",
              "\n",
              "<style>\n",
              "  .colab-df-quickchart {\n",
              "      --bg-color: #E8F0FE;\n",
              "      --fill-color: #1967D2;\n",
              "      --hover-bg-color: #E2EBFA;\n",
              "      --hover-fill-color: #174EA6;\n",
              "      --disabled-fill-color: #AAA;\n",
              "      --disabled-bg-color: #DDD;\n",
              "  }\n",
              "\n",
              "  [theme=dark] .colab-df-quickchart {\n",
              "      --bg-color: #3B4455;\n",
              "      --fill-color: #D2E3FC;\n",
              "      --hover-bg-color: #434B5C;\n",
              "      --hover-fill-color: #FFFFFF;\n",
              "      --disabled-bg-color: #3B4455;\n",
              "      --disabled-fill-color: #666;\n",
              "  }\n",
              "\n",
              "  .colab-df-quickchart {\n",
              "    background-color: var(--bg-color);\n",
              "    border: none;\n",
              "    border-radius: 50%;\n",
              "    cursor: pointer;\n",
              "    display: none;\n",
              "    fill: var(--fill-color);\n",
              "    height: 32px;\n",
              "    padding: 0;\n",
              "    width: 32px;\n",
              "  }\n",
              "\n",
              "  .colab-df-quickchart:hover {\n",
              "    background-color: var(--hover-bg-color);\n",
              "    box-shadow: 0 1px 2px rgba(60, 64, 67, 0.3), 0 1px 3px 1px rgba(60, 64, 67, 0.15);\n",
              "    fill: var(--button-hover-fill-color);\n",
              "  }\n",
              "\n",
              "  .colab-df-quickchart-complete:disabled,\n",
              "  .colab-df-quickchart-complete:disabled:hover {\n",
              "    background-color: var(--disabled-bg-color);\n",
              "    fill: var(--disabled-fill-color);\n",
              "    box-shadow: none;\n",
              "  }\n",
              "\n",
              "  .colab-df-spinner {\n",
              "    border: 2px solid var(--fill-color);\n",
              "    border-color: transparent;\n",
              "    border-bottom-color: var(--fill-color);\n",
              "    animation:\n",
              "      spin 1s steps(1) infinite;\n",
              "  }\n",
              "\n",
              "  @keyframes spin {\n",
              "    0% {\n",
              "      border-color: transparent;\n",
              "      border-bottom-color: var(--fill-color);\n",
              "      border-left-color: var(--fill-color);\n",
              "    }\n",
              "    20% {\n",
              "      border-color: transparent;\n",
              "      border-left-color: var(--fill-color);\n",
              "      border-top-color: var(--fill-color);\n",
              "    }\n",
              "    30% {\n",
              "      border-color: transparent;\n",
              "      border-left-color: var(--fill-color);\n",
              "      border-top-color: var(--fill-color);\n",
              "      border-right-color: var(--fill-color);\n",
              "    }\n",
              "    40% {\n",
              "      border-color: transparent;\n",
              "      border-right-color: var(--fill-color);\n",
              "      border-top-color: var(--fill-color);\n",
              "    }\n",
              "    60% {\n",
              "      border-color: transparent;\n",
              "      border-right-color: var(--fill-color);\n",
              "    }\n",
              "    80% {\n",
              "      border-color: transparent;\n",
              "      border-right-color: var(--fill-color);\n",
              "      border-bottom-color: var(--fill-color);\n",
              "    }\n",
              "    90% {\n",
              "      border-color: transparent;\n",
              "      border-bottom-color: var(--fill-color);\n",
              "    }\n",
              "  }\n",
              "</style>\n",
              "\n",
              "  <script>\n",
              "    async function quickchart(key) {\n",
              "      const quickchartButtonEl =\n",
              "        document.querySelector('#' + key + ' button');\n",
              "      quickchartButtonEl.disabled = true;  // To prevent multiple clicks.\n",
              "      quickchartButtonEl.classList.add('colab-df-spinner');\n",
              "      try {\n",
              "        const charts = await google.colab.kernel.invokeFunction(\n",
              "            'suggestCharts', [key], {});\n",
              "      } catch (error) {\n",
              "        console.error('Error during call to suggestCharts:', error);\n",
              "      }\n",
              "      quickchartButtonEl.classList.remove('colab-df-spinner');\n",
              "      quickchartButtonEl.classList.add('colab-df-quickchart-complete');\n",
              "    }\n",
              "    (() => {\n",
              "      let quickchartButtonEl =\n",
              "        document.querySelector('#df-2a5a19a5-e797-44e0-b186-2b10f44790e4 button');\n",
              "      quickchartButtonEl.style.display =\n",
              "        google.colab.kernel.accessAllowed ? 'block' : 'none';\n",
              "    })();\n",
              "  </script>\n",
              "</div>\n",
              "    </div>\n",
              "  </div>\n"
            ]
          },
          "metadata": {},
          "execution_count": 4
        }
      ]
    },
    {
      "cell_type": "code",
      "source": [
        "import pandas as pd\n",
        "\n",
        "# Fungsi isnull() digunakan untuk mengecek nilai yang kosong (missing)\n",
        "missing_values = df.isnull()\n",
        "\n",
        "# Jumlah missing value pada setiap kolom\n",
        "total_missing = missing_values.sum()\n",
        "\n",
        "print(\"Total Missing Values per kolom:\")\n",
        "print(total_missing)\n"
      ],
      "metadata": {
        "colab": {
          "base_uri": "https://localhost:8080/"
        },
        "id": "kqG3mrtSXPrQ",
        "outputId": "df19fb5e-d633-4dcc-a75b-109ac97896f6"
      },
      "execution_count": null,
      "outputs": [
        {
          "output_type": "stream",
          "name": "stdout",
          "text": [
            "Total Missing Values per kolom:\n",
            "pH            0\n",
            "Temprature    0\n",
            "Taste         0\n",
            "Odor          0\n",
            "Fat           0\n",
            "Turbidity     0\n",
            "Colour        0\n",
            "Grade         0\n",
            "dtype: int64\n"
          ]
        }
      ]
    },
    {
      "cell_type": "code",
      "source": [
        "label = df['Grade']\n",
        "data = df.drop('Grade', axis=1)\n",
        "data.head()"
      ],
      "metadata": {
        "colab": {
          "base_uri": "https://localhost:8080/",
          "height": 206
        },
        "id": "vNbWHlk92rqu",
        "outputId": "c3947140-033d-466d-c0e7-6cafd544312d"
      },
      "execution_count": null,
      "outputs": [
        {
          "output_type": "execute_result",
          "data": {
            "text/plain": [
              "    pH  Temprature  Taste  Odor  Fat   Turbidity  Colour\n",
              "0  6.6          35      1     0     1          0     254\n",
              "1  6.6          36      0     1     0          1     253\n",
              "2  8.5          70      1     1     1          1     246\n",
              "3  9.5          34      1     1     0          1     255\n",
              "4  6.6          37      0     0     0          0     255"
            ],
            "text/html": [
              "\n",
              "  <div id=\"df-623ace28-701e-4496-b4fa-83952fad8d45\" class=\"colab-df-container\">\n",
              "    <div>\n",
              "<style scoped>\n",
              "    .dataframe tbody tr th:only-of-type {\n",
              "        vertical-align: middle;\n",
              "    }\n",
              "\n",
              "    .dataframe tbody tr th {\n",
              "        vertical-align: top;\n",
              "    }\n",
              "\n",
              "    .dataframe thead th {\n",
              "        text-align: right;\n",
              "    }\n",
              "</style>\n",
              "<table border=\"1\" class=\"dataframe\">\n",
              "  <thead>\n",
              "    <tr style=\"text-align: right;\">\n",
              "      <th></th>\n",
              "      <th>pH</th>\n",
              "      <th>Temprature</th>\n",
              "      <th>Taste</th>\n",
              "      <th>Odor</th>\n",
              "      <th>Fat</th>\n",
              "      <th>Turbidity</th>\n",
              "      <th>Colour</th>\n",
              "    </tr>\n",
              "  </thead>\n",
              "  <tbody>\n",
              "    <tr>\n",
              "      <th>0</th>\n",
              "      <td>6.6</td>\n",
              "      <td>35</td>\n",
              "      <td>1</td>\n",
              "      <td>0</td>\n",
              "      <td>1</td>\n",
              "      <td>0</td>\n",
              "      <td>254</td>\n",
              "    </tr>\n",
              "    <tr>\n",
              "      <th>1</th>\n",
              "      <td>6.6</td>\n",
              "      <td>36</td>\n",
              "      <td>0</td>\n",
              "      <td>1</td>\n",
              "      <td>0</td>\n",
              "      <td>1</td>\n",
              "      <td>253</td>\n",
              "    </tr>\n",
              "    <tr>\n",
              "      <th>2</th>\n",
              "      <td>8.5</td>\n",
              "      <td>70</td>\n",
              "      <td>1</td>\n",
              "      <td>1</td>\n",
              "      <td>1</td>\n",
              "      <td>1</td>\n",
              "      <td>246</td>\n",
              "    </tr>\n",
              "    <tr>\n",
              "      <th>3</th>\n",
              "      <td>9.5</td>\n",
              "      <td>34</td>\n",
              "      <td>1</td>\n",
              "      <td>1</td>\n",
              "      <td>0</td>\n",
              "      <td>1</td>\n",
              "      <td>255</td>\n",
              "    </tr>\n",
              "    <tr>\n",
              "      <th>4</th>\n",
              "      <td>6.6</td>\n",
              "      <td>37</td>\n",
              "      <td>0</td>\n",
              "      <td>0</td>\n",
              "      <td>0</td>\n",
              "      <td>0</td>\n",
              "      <td>255</td>\n",
              "    </tr>\n",
              "  </tbody>\n",
              "</table>\n",
              "</div>\n",
              "    <div class=\"colab-df-buttons\">\n",
              "\n",
              "  <div class=\"colab-df-container\">\n",
              "    <button class=\"colab-df-convert\" onclick=\"convertToInteractive('df-623ace28-701e-4496-b4fa-83952fad8d45')\"\n",
              "            title=\"Convert this dataframe to an interactive table.\"\n",
              "            style=\"display:none;\">\n",
              "\n",
              "  <svg xmlns=\"http://www.w3.org/2000/svg\" height=\"24px\" viewBox=\"0 -960 960 960\">\n",
              "    <path d=\"M120-120v-720h720v720H120Zm60-500h600v-160H180v160Zm220 220h160v-160H400v160Zm0 220h160v-160H400v160ZM180-400h160v-160H180v160Zm440 0h160v-160H620v160ZM180-180h160v-160H180v160Zm440 0h160v-160H620v160Z\"/>\n",
              "  </svg>\n",
              "    </button>\n",
              "\n",
              "  <style>\n",
              "    .colab-df-container {\n",
              "      display:flex;\n",
              "      gap: 12px;\n",
              "    }\n",
              "\n",
              "    .colab-df-convert {\n",
              "      background-color: #E8F0FE;\n",
              "      border: none;\n",
              "      border-radius: 50%;\n",
              "      cursor: pointer;\n",
              "      display: none;\n",
              "      fill: #1967D2;\n",
              "      height: 32px;\n",
              "      padding: 0 0 0 0;\n",
              "      width: 32px;\n",
              "    }\n",
              "\n",
              "    .colab-df-convert:hover {\n",
              "      background-color: #E2EBFA;\n",
              "      box-shadow: 0px 1px 2px rgba(60, 64, 67, 0.3), 0px 1px 3px 1px rgba(60, 64, 67, 0.15);\n",
              "      fill: #174EA6;\n",
              "    }\n",
              "\n",
              "    .colab-df-buttons div {\n",
              "      margin-bottom: 4px;\n",
              "    }\n",
              "\n",
              "    [theme=dark] .colab-df-convert {\n",
              "      background-color: #3B4455;\n",
              "      fill: #D2E3FC;\n",
              "    }\n",
              "\n",
              "    [theme=dark] .colab-df-convert:hover {\n",
              "      background-color: #434B5C;\n",
              "      box-shadow: 0px 1px 3px 1px rgba(0, 0, 0, 0.15);\n",
              "      filter: drop-shadow(0px 1px 2px rgba(0, 0, 0, 0.3));\n",
              "      fill: #FFFFFF;\n",
              "    }\n",
              "  </style>\n",
              "\n",
              "    <script>\n",
              "      const buttonEl =\n",
              "        document.querySelector('#df-623ace28-701e-4496-b4fa-83952fad8d45 button.colab-df-convert');\n",
              "      buttonEl.style.display =\n",
              "        google.colab.kernel.accessAllowed ? 'block' : 'none';\n",
              "\n",
              "      async function convertToInteractive(key) {\n",
              "        const element = document.querySelector('#df-623ace28-701e-4496-b4fa-83952fad8d45');\n",
              "        const dataTable =\n",
              "          await google.colab.kernel.invokeFunction('convertToInteractive',\n",
              "                                                    [key], {});\n",
              "        if (!dataTable) return;\n",
              "\n",
              "        const docLinkHtml = 'Like what you see? Visit the ' +\n",
              "          '<a target=\"_blank\" href=https://colab.research.google.com/notebooks/data_table.ipynb>data table notebook</a>'\n",
              "          + ' to learn more about interactive tables.';\n",
              "        element.innerHTML = '';\n",
              "        dataTable['output_type'] = 'display_data';\n",
              "        await google.colab.output.renderOutput(dataTable, element);\n",
              "        const docLink = document.createElement('div');\n",
              "        docLink.innerHTML = docLinkHtml;\n",
              "        element.appendChild(docLink);\n",
              "      }\n",
              "    </script>\n",
              "  </div>\n",
              "\n",
              "\n",
              "<div id=\"df-d0ab637d-0c5f-4b08-ad71-04c9ce81e7ab\">\n",
              "  <button class=\"colab-df-quickchart\" onclick=\"quickchart('df-d0ab637d-0c5f-4b08-ad71-04c9ce81e7ab')\"\n",
              "            title=\"Suggest charts\"\n",
              "            style=\"display:none;\">\n",
              "\n",
              "<svg xmlns=\"http://www.w3.org/2000/svg\" height=\"24px\"viewBox=\"0 0 24 24\"\n",
              "     width=\"24px\">\n",
              "    <g>\n",
              "        <path d=\"M19 3H5c-1.1 0-2 .9-2 2v14c0 1.1.9 2 2 2h14c1.1 0 2-.9 2-2V5c0-1.1-.9-2-2-2zM9 17H7v-7h2v7zm4 0h-2V7h2v10zm4 0h-2v-4h2v4z\"/>\n",
              "    </g>\n",
              "</svg>\n",
              "  </button>\n",
              "\n",
              "<style>\n",
              "  .colab-df-quickchart {\n",
              "      --bg-color: #E8F0FE;\n",
              "      --fill-color: #1967D2;\n",
              "      --hover-bg-color: #E2EBFA;\n",
              "      --hover-fill-color: #174EA6;\n",
              "      --disabled-fill-color: #AAA;\n",
              "      --disabled-bg-color: #DDD;\n",
              "  }\n",
              "\n",
              "  [theme=dark] .colab-df-quickchart {\n",
              "      --bg-color: #3B4455;\n",
              "      --fill-color: #D2E3FC;\n",
              "      --hover-bg-color: #434B5C;\n",
              "      --hover-fill-color: #FFFFFF;\n",
              "      --disabled-bg-color: #3B4455;\n",
              "      --disabled-fill-color: #666;\n",
              "  }\n",
              "\n",
              "  .colab-df-quickchart {\n",
              "    background-color: var(--bg-color);\n",
              "    border: none;\n",
              "    border-radius: 50%;\n",
              "    cursor: pointer;\n",
              "    display: none;\n",
              "    fill: var(--fill-color);\n",
              "    height: 32px;\n",
              "    padding: 0;\n",
              "    width: 32px;\n",
              "  }\n",
              "\n",
              "  .colab-df-quickchart:hover {\n",
              "    background-color: var(--hover-bg-color);\n",
              "    box-shadow: 0 1px 2px rgba(60, 64, 67, 0.3), 0 1px 3px 1px rgba(60, 64, 67, 0.15);\n",
              "    fill: var(--button-hover-fill-color);\n",
              "  }\n",
              "\n",
              "  .colab-df-quickchart-complete:disabled,\n",
              "  .colab-df-quickchart-complete:disabled:hover {\n",
              "    background-color: var(--disabled-bg-color);\n",
              "    fill: var(--disabled-fill-color);\n",
              "    box-shadow: none;\n",
              "  }\n",
              "\n",
              "  .colab-df-spinner {\n",
              "    border: 2px solid var(--fill-color);\n",
              "    border-color: transparent;\n",
              "    border-bottom-color: var(--fill-color);\n",
              "    animation:\n",
              "      spin 1s steps(1) infinite;\n",
              "  }\n",
              "\n",
              "  @keyframes spin {\n",
              "    0% {\n",
              "      border-color: transparent;\n",
              "      border-bottom-color: var(--fill-color);\n",
              "      border-left-color: var(--fill-color);\n",
              "    }\n",
              "    20% {\n",
              "      border-color: transparent;\n",
              "      border-left-color: var(--fill-color);\n",
              "      border-top-color: var(--fill-color);\n",
              "    }\n",
              "    30% {\n",
              "      border-color: transparent;\n",
              "      border-left-color: var(--fill-color);\n",
              "      border-top-color: var(--fill-color);\n",
              "      border-right-color: var(--fill-color);\n",
              "    }\n",
              "    40% {\n",
              "      border-color: transparent;\n",
              "      border-right-color: var(--fill-color);\n",
              "      border-top-color: var(--fill-color);\n",
              "    }\n",
              "    60% {\n",
              "      border-color: transparent;\n",
              "      border-right-color: var(--fill-color);\n",
              "    }\n",
              "    80% {\n",
              "      border-color: transparent;\n",
              "      border-right-color: var(--fill-color);\n",
              "      border-bottom-color: var(--fill-color);\n",
              "    }\n",
              "    90% {\n",
              "      border-color: transparent;\n",
              "      border-bottom-color: var(--fill-color);\n",
              "    }\n",
              "  }\n",
              "</style>\n",
              "\n",
              "  <script>\n",
              "    async function quickchart(key) {\n",
              "      const quickchartButtonEl =\n",
              "        document.querySelector('#' + key + ' button');\n",
              "      quickchartButtonEl.disabled = true;  // To prevent multiple clicks.\n",
              "      quickchartButtonEl.classList.add('colab-df-spinner');\n",
              "      try {\n",
              "        const charts = await google.colab.kernel.invokeFunction(\n",
              "            'suggestCharts', [key], {});\n",
              "      } catch (error) {\n",
              "        console.error('Error during call to suggestCharts:', error);\n",
              "      }\n",
              "      quickchartButtonEl.classList.remove('colab-df-spinner');\n",
              "      quickchartButtonEl.classList.add('colab-df-quickchart-complete');\n",
              "    }\n",
              "    (() => {\n",
              "      let quickchartButtonEl =\n",
              "        document.querySelector('#df-d0ab637d-0c5f-4b08-ad71-04c9ce81e7ab button');\n",
              "      quickchartButtonEl.style.display =\n",
              "        google.colab.kernel.accessAllowed ? 'block' : 'none';\n",
              "    })();\n",
              "  </script>\n",
              "</div>\n",
              "    </div>\n",
              "  </div>\n"
            ]
          },
          "metadata": {},
          "execution_count": 6
        }
      ]
    },
    {
      "cell_type": "code",
      "source": [
        "import numpy as np\n",
        "from sklearn.preprocessing import MinMaxScaler\n",
        "scaler = MinMaxScaler()\n",
        "normalized_data = scaler.fit_transform(data)\n",
        "\n",
        "print(\"Data Asli:\\n\", data)\n",
        "print(\"Data yang Dinormalisasi:\\n\", normalized_data)\n"
      ],
      "metadata": {
        "id": "uh1dqLixuDaF",
        "colab": {
          "base_uri": "https://localhost:8080/"
        },
        "outputId": "f443cb2e-ab5b-43cd-ef0c-54d645d6aa0f"
      },
      "execution_count": null,
      "outputs": [
        {
          "output_type": "stream",
          "name": "stdout",
          "text": [
            "Data Asli:\n",
            "        pH  Temprature  Taste  Odor  Fat   Turbidity  Colour\n",
            "0     6.6          35      1     0     1          0     254\n",
            "1     6.6          36      0     1     0          1     253\n",
            "2     8.5          70      1     1     1          1     246\n",
            "3     9.5          34      1     1     0          1     255\n",
            "4     6.6          37      0     0     0          0     255\n",
            "...   ...         ...    ...   ...   ...        ...     ...\n",
            "1054  6.7          45      1     1     0          0     247\n",
            "1055  6.7          38      1     0     1          0     255\n",
            "1056  3.0          40      1     1     1          1     255\n",
            "1057  6.8          43      1     0     1          0     250\n",
            "1058  8.6          55      0     1     1          1     255\n",
            "\n",
            "[1059 rows x 7 columns]\n",
            "Data yang Dinormalisasi:\n",
            " [[0.55384615 0.01785714 1.         ... 1.         0.         0.93333333]\n",
            " [0.55384615 0.03571429 0.         ... 0.         1.         0.86666667]\n",
            " [0.84615385 0.64285714 1.         ... 1.         1.         0.4       ]\n",
            " ...\n",
            " [0.         0.10714286 1.         ... 1.         1.         1.        ]\n",
            " [0.58461538 0.16071429 1.         ... 1.         0.         0.66666667]\n",
            " [0.86153846 0.375      0.         ... 1.         1.         1.        ]]\n"
          ]
        }
      ]
    },
    {
      "cell_type": "markdown",
      "source": [
        "# Fungsi Training Backpropagation"
      ],
      "metadata": {
        "id": "IoAKnqzFtxiY"
      }
    },
    {
      "cell_type": "code",
      "source": [
        "def sig(X):\n",
        "  return [1 / (1 + np.exp(-x)) for x in X]\n",
        "def sigd(X):\n",
        "  output = []\n",
        "  for i, x in enumerate(X):\n",
        "      s = sig([x])[0]\n",
        "      output.append(s * (1 - s))\n",
        "  return output"
      ],
      "metadata": {
        "id": "s0_s2hsgtwVJ"
      },
      "execution_count": null,
      "outputs": []
    },
    {
      "cell_type": "code",
      "source": [
        "import time\n",
        "\n",
        "def bp_fit(X, target, layer_conf, max_epoch, max_error=0.1, learn_rate=0.1, print_per_epoch=100):\n",
        "    start_time = time.time()\n",
        "    np.random.seed(1)\n",
        "    nin = [np.empty(i) for i in layer_conf]\n",
        "    n = [np.empty(j + 1) if i < len(layer_conf) - 1 else np.empty(j) for i, j in enumerate(layer_conf)]\n",
        "    w = np.array([np.random.rand(layer_conf[i] + 1, layer_conf[i + 1]) for i in range(len(layer_conf) - 1)])\n",
        "    dw = [np.empty((layer_conf[i] + 1, layer_conf[i + 1])) for i in range(len(layer_conf) - 1)]\n",
        "    d = [np.empty(s) for s in layer_conf[1:]]\n",
        "    din = [np.empty(s) for s in layer_conf[1:-1]]\n",
        "    epoch = 0\n",
        "    mse = 1\n",
        "\n",
        "    for i in range(0, len(n)-1):\n",
        "        n[i][-1] = 1\n",
        "\n",
        "    while (max_epoch == -1 or epoch < max_epoch) and mse > max_error:\n",
        "        epoch += 1\n",
        "        mse = 0\n",
        "        for r in range(len(X)):\n",
        "            n[0][:-1] = X[r]\n",
        "            for L in range(1, len(layer_conf)):\n",
        "                nin[L] = np.dot(n[L-1], w[L-1])\n",
        "                n[L][:len(nin[L])] = sig(nin[L])\n",
        "\n",
        "            e = target[r] - n[-1]\n",
        "            mse += sum(e ** 2)\n",
        "            d[-1] = e * sigd(nin[-1])\n",
        "            dw[-1] = learn_rate * d[-1] * n[-2].reshape((-1, 1))\n",
        "\n",
        "            for L in range(len(layer_conf) - 1, 1, -1):\n",
        "                din[L-2] = np.dot(d[L-1], np.transpose(w[L-1][:-1]))\n",
        "                d[L-2] = din[L-2] * np.array(sigd(nin[L-1]))\n",
        "                dw[L-2] = (learn_rate * d[L-2]) * n[L-2].reshape((-1, 1))\n",
        "\n",
        "            w += dw\n",
        "\n",
        "        mse /= len(X)\n",
        "        if print_per_epoch > -1 and epoch % print_per_epoch == 0:\n",
        "            print(f'Epoch {epoch}, MSE: {mse}')\n",
        "    execution = time.time() - start_time\n",
        "    print(\"Waktu eksekusi: %s detik\" % execution)\n",
        "    return w, epoch, mse\n"
      ],
      "metadata": {
        "id": "vSZk5phd3eDM"
      },
      "execution_count": null,
      "outputs": []
    },
    {
      "cell_type": "markdown",
      "source": [
        "# Fungsi Testing Backpropagation"
      ],
      "metadata": {
        "id": "s50hjvTCuYy5"
      }
    },
    {
      "cell_type": "code",
      "execution_count": null,
      "metadata": {
        "id": "6gnkcS4N13rw"
      },
      "outputs": [],
      "source": [
        "def bp_predict(X, w):\n",
        "    n = [np.empty(len(i)) for i in w]\n",
        "    nin = [np.empty(len(i[0])) for i in w]\n",
        "    predict = []\n",
        "    n.append(np.empty(len(w[-1][0])))\n",
        "    for x in X:\n",
        "        n[0][:-1] = x\n",
        "        for L in range(0, len(w)):\n",
        "            nin[L] = np.dot(n[L], w[L])\n",
        "            n[L + 1][:len(nin[L])] = sig(nin[L])\n",
        "        predict.append(n[-1].copy())\n",
        "    return predict"
      ]
    },
    {
      "cell_type": "code",
      "source": [
        "import pandas as pd\n",
        "\n",
        "# Melakukan one-hot encoding\n",
        "one_hot_encoded = pd.get_dummies(label)\n",
        "\n",
        "# Menggabungkan one-hot encoded dengan DataFrame asli\n",
        "df = pd.concat([label, one_hot_encoded], axis=1)\n",
        "\n",
        "# Menampilkan hasil\n",
        "print(\"DataFrame setelah One-Hot Encoding:\")\n",
        "print(df)\n"
      ],
      "metadata": {
        "colab": {
          "base_uri": "https://localhost:8080/"
        },
        "id": "og5paBuB4x9U",
        "outputId": "801eee4e-6d6a-4a78-998a-48c680204f11"
      },
      "execution_count": null,
      "outputs": [
        {
          "output_type": "stream",
          "name": "stdout",
          "text": [
            "DataFrame setelah One-Hot Encoding:\n",
            "       Grade  high  low  medium\n",
            "0       high     1    0       0\n",
            "1       high     1    0       0\n",
            "2        low     0    1       0\n",
            "3        low     0    1       0\n",
            "4     medium     0    0       1\n",
            "...      ...   ...  ...     ...\n",
            "1054  medium     0    0       1\n",
            "1055    high     1    0       0\n",
            "1056     low     0    1       0\n",
            "1057    high     1    0       0\n",
            "1058     low     0    1       0\n",
            "\n",
            "[1059 rows x 4 columns]\n"
          ]
        }
      ]
    },
    {
      "cell_type": "code",
      "source": [
        "def onehot_enc_str(string_list):\n",
        "    df = pd.get_dummies(string_list)\n",
        "    onehot_list = df.values.tolist()\n",
        "    return onehot_list"
      ],
      "metadata": {
        "id": "UkL-xSZDxFPn"
      },
      "execution_count": null,
      "outputs": []
    },
    {
      "cell_type": "code",
      "source": [
        "def onehot_dec_str(onehot_list, unique_classes):\n",
        "    df = pd.DataFrame(onehot_list, columns=unique_classes)\n",
        "    decoded_list = df.idxmax(axis=1).tolist()\n",
        "    return decoded_list"
      ],
      "metadata": {
        "id": "M6TwMEyVzA2r"
      },
      "execution_count": null,
      "outputs": []
    },
    {
      "cell_type": "markdown",
      "source": [
        "## Percobaan 1\n",
        "hasil tertinggi\n",
        "\n",
        "*   1 hidden layer dengan 3 neuron\n",
        "*   learning rate = 0.5\n",
        "* max epoch = 50\n",
        "* max error = 0.1\n",
        "\n",
        "akurasi = 0.9622641509433962 dengan 35 epoch yang dijalankan"
      ],
      "metadata": {
        "id": "pvL2g-9T4MAx"
      }
    },
    {
      "cell_type": "code",
      "source": [
        "from sklearn import datasets\n",
        "from sklearn.model_selection import train_test_split\n",
        "from sklearn.preprocessing import minmax_scale\n",
        "from sklearn.metrics import accuracy_score\n",
        "\n",
        "X = minmax_scale(normalized_data)\n",
        "Y = onehot_enc_str(label)\n",
        "\n",
        "X_train, X_test, y_train, y_test = train_test_split(X, Y, test_size=.25,random_state=30)\n",
        "w, ep, mse = bp_fit(X_train, y_train, layer_conf=(7, 3, 3), learn_rate=.5, max_epoch=50, max_error=.1, print_per_epoch=25)\n",
        "\n",
        "print(f'Epochs: {ep}, MSE: {mse}')\n",
        "\n",
        "predict = bp_predict(X_test, w)\n",
        "predict = onehot_dec_str(predict,label.unique())\n",
        "y_test = onehot_dec_str(y_test,label.unique())\n",
        "accuracy = accuracy_score(predict, y_test)\n",
        "\n",
        "print('Output:', predict)\n",
        "print('True :', y_test)\n",
        "print('Accuracy:', accuracy)"
      ],
      "metadata": {
        "colab": {
          "base_uri": "https://localhost:8080/"
        },
        "id": "SwJjpsnx2mik",
        "outputId": "cc7b5f5a-cce0-4566-e058-a777aca49edf"
      },
      "execution_count": null,
      "outputs": [
        {
          "output_type": "stream",
          "name": "stderr",
          "text": [
            "<ipython-input-9-7b59625a484b>:8: VisibleDeprecationWarning: Creating an ndarray from ragged nested sequences (which is a list-or-tuple of lists-or-tuples-or ndarrays with different lengths or shapes) is deprecated. If you meant to do this, you must specify 'dtype=object' when creating the ndarray.\n",
            "  w = np.array([np.random.rand(layer_conf[i] + 1, layer_conf[i + 1]) for i in range(len(layer_conf) - 1)])\n",
            "<ipython-input-9-7b59625a484b>:37: VisibleDeprecationWarning: Creating an ndarray from ragged nested sequences (which is a list-or-tuple of lists-or-tuples-or ndarrays with different lengths or shapes) is deprecated. If you meant to do this, you must specify 'dtype=object' when creating the ndarray.\n",
            "  w += dw\n"
          ]
        },
        {
          "output_type": "stream",
          "name": "stdout",
          "text": [
            "Epoch 25, MSE: 0.15885350393737138\n",
            "Waktu eksekusi: 8.092753887176514 detik\n",
            "Epochs: 35, MSE: 0.09913660152710245\n",
            "Output: ['low', 'low', 'low', 'high', 'high', 'low', 'low', 'medium', 'low', 'high', 'low', 'low', 'low', 'medium', 'high', 'high', 'high', 'medium', 'low', 'high', 'medium', 'high', 'medium', 'low', 'low', 'low', 'low', 'low', 'low', 'low', 'medium', 'low', 'high', 'high', 'medium', 'low', 'medium', 'low', 'high', 'high', 'low', 'low', 'high', 'medium', 'medium', 'medium', 'high', 'high', 'high', 'low', 'medium', 'high', 'low', 'low', 'high', 'low', 'medium', 'high', 'medium', 'high', 'medium', 'low', 'low', 'low', 'low', 'low', 'low', 'low', 'low', 'medium', 'high', 'low', 'low', 'high', 'low', 'low', 'high', 'low', 'low', 'low', 'medium', 'medium', 'medium', 'low', 'low', 'low', 'low', 'medium', 'low', 'low', 'low', 'high', 'low', 'low', 'high', 'medium', 'medium', 'high', 'low', 'low', 'medium', 'low', 'medium', 'low', 'medium', 'medium', 'medium', 'low', 'high', 'medium', 'low', 'low', 'low', 'low', 'medium', 'high', 'medium', 'low', 'medium', 'low', 'low', 'high', 'high', 'medium', 'low', 'medium', 'medium', 'low', 'low', 'medium', 'medium', 'medium', 'medium', 'high', 'low', 'high', 'medium', 'high', 'medium', 'high', 'low', 'low', 'medium', 'medium', 'low', 'high', 'low', 'low', 'high', 'high', 'high', 'high', 'medium', 'high', 'low', 'high', 'low', 'high', 'low', 'medium', 'low', 'high', 'high', 'medium', 'medium', 'low', 'low', 'high', 'medium', 'high', 'medium', 'low', 'low', 'low', 'low', 'medium', 'high', 'low', 'low', 'low', 'high', 'high', 'low', 'medium', 'medium', 'high', 'high', 'low', 'medium', 'medium', 'medium', 'low', 'medium', 'medium', 'high', 'medium', 'high', 'low', 'high', 'high', 'high', 'low', 'low', 'high', 'low', 'low', 'medium', 'low', 'high', 'low', 'medium', 'medium', 'low', 'high', 'high', 'medium', 'high', 'high', 'medium', 'medium', 'low', 'low', 'medium', 'low', 'low', 'high', 'low', 'high', 'medium', 'medium', 'low', 'low', 'low', 'low', 'low', 'low', 'high', 'high', 'high', 'low', 'medium', 'low', 'low', 'low', 'medium', 'medium', 'low', 'low', 'high', 'low', 'medium', 'low', 'high', 'low', 'medium', 'medium', 'low', 'low', 'medium', 'high', 'high', 'high', 'low', 'high', 'medium']\n",
            "True : ['low', 'low', 'low', 'high', 'high', 'low', 'low', 'medium', 'low', 'medium', 'low', 'low', 'low', 'medium', 'high', 'high', 'high', 'medium', 'low', 'high', 'medium', 'medium', 'medium', 'low', 'low', 'low', 'low', 'low', 'low', 'low', 'medium', 'low', 'high', 'high', 'medium', 'low', 'medium', 'low', 'high', 'high', 'low', 'low', 'high', 'medium', 'medium', 'medium', 'high', 'high', 'high', 'low', 'medium', 'high', 'low', 'low', 'high', 'low', 'medium', 'high', 'medium', 'high', 'medium', 'low', 'low', 'low', 'low', 'low', 'low', 'low', 'low', 'medium', 'high', 'low', 'low', 'high', 'low', 'low', 'high', 'low', 'low', 'low', 'medium', 'medium', 'medium', 'low', 'low', 'low', 'low', 'medium', 'low', 'low', 'low', 'high', 'low', 'low', 'high', 'medium', 'medium', 'high', 'low', 'low', 'medium', 'low', 'medium', 'low', 'medium', 'medium', 'medium', 'low', 'high', 'medium', 'low', 'low', 'low', 'low', 'medium', 'high', 'medium', 'low', 'medium', 'low', 'low', 'high', 'high', 'medium', 'low', 'medium', 'medium', 'low', 'low', 'medium', 'medium', 'medium', 'medium', 'high', 'low', 'high', 'medium', 'high', 'medium', 'high', 'low', 'low', 'medium', 'medium', 'low', 'high', 'low', 'low', 'high', 'high', 'high', 'medium', 'medium', 'medium', 'low', 'high', 'low', 'high', 'low', 'medium', 'low', 'high', 'high', 'medium', 'medium', 'low', 'low', 'high', 'medium', 'high', 'medium', 'low', 'low', 'low', 'low', 'medium', 'high', 'low', 'low', 'low', 'medium', 'high', 'low', 'medium', 'medium', 'high', 'high', 'low', 'medium', 'medium', 'medium', 'low', 'medium', 'medium', 'high', 'medium', 'high', 'low', 'high', 'medium', 'high', 'low', 'low', 'medium', 'low', 'low', 'medium', 'low', 'high', 'low', 'medium', 'medium', 'low', 'high', 'medium', 'medium', 'high', 'high', 'medium', 'medium', 'low', 'low', 'medium', 'low', 'low', 'high', 'low', 'high', 'medium', 'medium', 'low', 'low', 'low', 'low', 'low', 'low', 'high', 'high', 'high', 'low', 'medium', 'low', 'low', 'low', 'medium', 'medium', 'low', 'low', 'high', 'low', 'medium', 'low', 'high', 'low', 'medium', 'medium', 'low', 'low', 'medium', 'medium', 'high', 'high', 'low', 'medium', 'medium']\n",
            "Accuracy: 0.9622641509433962\n"
          ]
        }
      ]
    },
    {
      "cell_type": "code",
      "source": [
        "from sklearn.metrics import classification_report\n",
        "\n",
        "# Membuat laporan evaluasi\n",
        "report = classification_report(y_test, predict)\n",
        "\n",
        "# Menampilkan laporan evaluasi\n",
        "print(report)\n"
      ],
      "metadata": {
        "colab": {
          "base_uri": "https://localhost:8080/"
        },
        "id": "_-4ne8kE1Rpp",
        "outputId": "776d4032-80dd-4b36-9a2c-bc5453bb7124"
      },
      "execution_count": null,
      "outputs": [
        {
          "output_type": "stream",
          "name": "stdout",
          "text": [
            "              precision    recall  f1-score   support\n",
            "\n",
            "        high       0.86      1.00      0.93        63\n",
            "         low       1.00      1.00      1.00       118\n",
            "      medium       1.00      0.88      0.94        84\n",
            "\n",
            "    accuracy                           0.96       265\n",
            "   macro avg       0.95      0.96      0.95       265\n",
            "weighted avg       0.97      0.96      0.96       265\n",
            "\n"
          ]
        }
      ]
    },
    {
      "cell_type": "code",
      "source": [
        "from sklearn.metrics import confusion_matrix\n",
        "import seaborn as sns\n",
        "import matplotlib.pyplot as plt\n",
        "\n",
        "# Anda memiliki predict (hasil prediksi) dan y_test (label sebenarnya)\n",
        "\n",
        "# Membuat matrix confusion\n",
        "conf_matrix = confusion_matrix(y_test, predict)\n",
        "\n",
        "# Visualisasi matrix confusion menggunakan heatmap\n",
        "plt.figure(figsize=(8, 6))\n",
        "sns.heatmap(conf_matrix, annot=True, cmap='Blues', fmt='g')\n",
        "plt.xlabel('Predicted labels')\n",
        "plt.ylabel('True labels')\n",
        "plt.title('Confusion Matrix')\n",
        "plt.show()\n"
      ],
      "metadata": {
        "colab": {
          "base_uri": "https://localhost:8080/",
          "height": 564
        },
        "id": "QCY05OJH0WLc",
        "outputId": "fa0b931d-cea6-4809-9a3c-de1cbd1ae68d"
      },
      "execution_count": null,
      "outputs": [
        {
          "output_type": "display_data",
          "data": {
            "text/plain": [
              "<Figure size 800x600 with 2 Axes>"
            ],
            "image/png": "[encoded data removed]"
          },
          "metadata": {}
        }
      ]
    },
    {
      "cell_type": "markdown",
      "source": [
        "## Percobaan 2\n",
        "*   1 hidden layer dengan 3 neuron\n",
        "*   learning rate = 0.1\n",
        "* max epoch = 50\n",
        "* max error = 0.1\n",
        "\n",
        "akurasi = 0.8867924528301887 dengan 50 epoch yang dijalankan"
      ],
      "metadata": {
        "id": "hiN_iyOjI7x6"
      }
    },
    {
      "cell_type": "code",
      "source": [
        "from sklearn import datasets\n",
        "from sklearn.model_selection import train_test_split\n",
        "from sklearn.preprocessing import minmax_scale\n",
        "from sklearn.metrics import accuracy_score\n",
        "\n",
        "X = minmax_scale(normalized_data)\n",
        "Y = onehot_enc_str(label)\n",
        "\n",
        "X_train, X_test, y_train, y_test = train_test_split(X, Y, test_size=.25,random_state=30)\n",
        "w, ep, mse = bp_fit(X_train, y_train, layer_conf=(7, 3, 3), learn_rate=.1, max_epoch=50, max_error=.1, print_per_epoch=25)\n",
        "\n",
        "print(f'Epochs: {ep}, MSE: {mse}')\n",
        "\n",
        "predict = bp_predict(X_test, w)\n",
        "predict = onehot_dec_str(predict,label.unique())\n",
        "y_test = onehot_dec_str(y_test,label.unique())\n",
        "accuracy = accuracy_score(predict, y_test)\n",
        "\n",
        "print('Output:', predict)\n",
        "print('True :', y_test)\n",
        "print('Accuracy:', accuracy)"
      ],
      "metadata": {
        "colab": {
          "base_uri": "https://localhost:8080/"
        },
        "id": "gdQ4gNDmI_XT",
        "outputId": "8723f08d-e8fe-4ef1-d5f7-91f7aa24ef4d"
      },
      "execution_count": null,
      "outputs": [
        {
          "output_type": "stream",
          "name": "stderr",
          "text": [
            "<ipython-input-9-7b59625a484b>:8: VisibleDeprecationWarning: Creating an ndarray from ragged nested sequences (which is a list-or-tuple of lists-or-tuples-or ndarrays with different lengths or shapes) is deprecated. If you meant to do this, you must specify 'dtype=object' when creating the ndarray.\n",
            "  w = np.array([np.random.rand(layer_conf[i] + 1, layer_conf[i + 1]) for i in range(len(layer_conf) - 1)])\n",
            "<ipython-input-9-7b59625a484b>:37: VisibleDeprecationWarning: Creating an ndarray from ragged nested sequences (which is a list-or-tuple of lists-or-tuples-or ndarrays with different lengths or shapes) is deprecated. If you meant to do this, you must specify 'dtype=object' when creating the ndarray.\n",
            "  w += dw\n"
          ]
        },
        {
          "output_type": "stream",
          "name": "stdout",
          "text": [
            "Epoch 25, MSE: 0.36456890120090396\n",
            "Epoch 50, MSE: 0.2678167996609215\n",
            "Waktu eksekusi: 9.310830116271973 detik\n",
            "Epochs: 50, MSE: 0.2678167996609215\n",
            "Output: ['low', 'low', 'low', 'high', 'high', 'high', 'low', 'medium', 'low', 'high', 'low', 'high', 'low', 'medium', 'high', 'medium', 'high', 'medium', 'high', 'high', 'medium', 'high', 'medium', 'low', 'low', 'low', 'low', 'low', 'low', 'low', 'medium', 'low', 'high', 'high', 'medium', 'low', 'medium', 'low', 'high', 'high', 'low', 'low', 'high', 'medium', 'medium', 'medium', 'high', 'high', 'high', 'low', 'medium', 'low', 'high', 'low', 'high', 'low', 'medium', 'high', 'medium', 'high', 'medium', 'low', 'low', 'low', 'low', 'low', 'low', 'low', 'low', 'medium', 'high', 'low', 'low', 'high', 'low', 'low', 'high', 'low', 'low', 'low', 'medium', 'medium', 'medium', 'low', 'low', 'low', 'low', 'medium', 'low', 'low', 'low', 'high', 'low', 'low', 'high', 'medium', 'medium', 'high', 'low', 'low', 'medium', 'low', 'low', 'low', 'medium', 'medium', 'medium', 'low', 'high', 'medium', 'high', 'low', 'low', 'low', 'medium', 'high', 'medium', 'low', 'medium', 'low', 'low', 'high', 'high', 'medium', 'low', 'medium', 'medium', 'low', 'low', 'medium', 'medium', 'medium', 'medium', 'high', 'low', 'high', 'medium', 'high', 'medium', 'high', 'low', 'low', 'medium', 'medium', 'low', 'high', 'low', 'low', 'high', 'high', 'high', 'high', 'medium', 'high', 'low', 'high', 'low', 'high', 'low', 'medium', 'low', 'high', 'high', 'medium', 'medium', 'high', 'low', 'low', 'medium', 'high', 'medium', 'high', 'low', 'medium', 'low', 'low', 'high', 'low', 'low', 'low', 'high', 'high', 'low', 'medium', 'medium', 'high', 'high', 'low', 'medium', 'medium', 'medium', 'low', 'medium', 'medium', 'high', 'medium', 'high', 'low', 'high', 'high', 'high', 'low', 'low', 'high', 'low', 'low', 'low', 'low', 'high', 'high', 'medium', 'medium', 'low', 'high', 'high', 'medium', 'high', 'high', 'medium', 'low', 'low', 'low', 'medium', 'low', 'low', 'high', 'low', 'high', 'low', 'low', 'low', 'low', 'low', 'low', 'low', 'low', 'high', 'high', 'high', 'low', 'medium', 'low', 'low', 'low', 'medium', 'medium', 'low', 'low', 'high', 'low', 'medium', 'low', 'high', 'low', 'medium', 'low', 'low', 'high', 'medium', 'high', 'high', 'high', 'low', 'high', 'medium']\n",
            "True : ['low', 'low', 'low', 'high', 'high', 'low', 'low', 'medium', 'low', 'medium', 'low', 'low', 'low', 'medium', 'high', 'high', 'high', 'medium', 'low', 'high', 'medium', 'medium', 'medium', 'low', 'low', 'low', 'low', 'low', 'low', 'low', 'medium', 'low', 'high', 'high', 'medium', 'low', 'medium', 'low', 'high', 'high', 'low', 'low', 'high', 'medium', 'medium', 'medium', 'high', 'high', 'high', 'low', 'medium', 'high', 'low', 'low', 'high', 'low', 'medium', 'high', 'medium', 'high', 'medium', 'low', 'low', 'low', 'low', 'low', 'low', 'low', 'low', 'medium', 'high', 'low', 'low', 'high', 'low', 'low', 'high', 'low', 'low', 'low', 'medium', 'medium', 'medium', 'low', 'low', 'low', 'low', 'medium', 'low', 'low', 'low', 'high', 'low', 'low', 'high', 'medium', 'medium', 'high', 'low', 'low', 'medium', 'low', 'medium', 'low', 'medium', 'medium', 'medium', 'low', 'high', 'medium', 'low', 'low', 'low', 'low', 'medium', 'high', 'medium', 'low', 'medium', 'low', 'low', 'high', 'high', 'medium', 'low', 'medium', 'medium', 'low', 'low', 'medium', 'medium', 'medium', 'medium', 'high', 'low', 'high', 'medium', 'high', 'medium', 'high', 'low', 'low', 'medium', 'medium', 'low', 'high', 'low', 'low', 'high', 'high', 'high', 'medium', 'medium', 'medium', 'low', 'high', 'low', 'high', 'low', 'medium', 'low', 'high', 'high', 'medium', 'medium', 'low', 'low', 'high', 'medium', 'high', 'medium', 'low', 'low', 'low', 'low', 'medium', 'high', 'low', 'low', 'low', 'medium', 'high', 'low', 'medium', 'medium', 'high', 'high', 'low', 'medium', 'medium', 'medium', 'low', 'medium', 'medium', 'high', 'medium', 'high', 'low', 'high', 'medium', 'high', 'low', 'low', 'medium', 'low', 'low', 'medium', 'low', 'high', 'low', 'medium', 'medium', 'low', 'high', 'medium', 'medium', 'high', 'high', 'medium', 'medium', 'low', 'low', 'medium', 'low', 'low', 'high', 'low', 'high', 'medium', 'medium', 'low', 'low', 'low', 'low', 'low', 'low', 'high', 'high', 'high', 'low', 'medium', 'low', 'low', 'low', 'medium', 'medium', 'low', 'low', 'high', 'low', 'medium', 'low', 'high', 'low', 'medium', 'medium', 'low', 'low', 'medium', 'medium', 'high', 'high', 'low', 'medium', 'medium']\n",
            "Accuracy: 0.8867924528301887\n"
          ]
        }
      ]
    },
    {
      "cell_type": "code",
      "source": [
        "from sklearn.metrics import classification_report\n",
        "\n",
        "# Membuat laporan evaluasi\n",
        "report = classification_report(y_test, predict)\n",
        "\n",
        "# Menampilkan laporan evaluasi\n",
        "print(report)\n"
      ],
      "metadata": {
        "colab": {
          "base_uri": "https://localhost:8080/"
        },
        "id": "DJAEBgz_JM5a",
        "outputId": "8f302ca2-ef7f-4734-ee19-c0f1b4eafe71"
      },
      "execution_count": null,
      "outputs": [
        {
          "output_type": "stream",
          "name": "stdout",
          "text": [
            "              precision    recall  f1-score   support\n",
            "\n",
            "        high       0.76      0.95      0.85        63\n",
            "         low       0.92      0.92      0.92       118\n",
            "      medium       0.97      0.80      0.88        84\n",
            "\n",
            "    accuracy                           0.89       265\n",
            "   macro avg       0.88      0.89      0.88       265\n",
            "weighted avg       0.90      0.89      0.89       265\n",
            "\n"
          ]
        }
      ]
    },
    {
      "cell_type": "code",
      "source": [
        "from sklearn.metrics import confusion_matrix\n",
        "import seaborn as sns\n",
        "import matplotlib.pyplot as plt\n",
        "\n",
        "# Anda memiliki predict (hasil prediksi) dan y_test (label sebenarnya)\n",
        "\n",
        "# Membuat matrix confusion\n",
        "conf_matrix = confusion_matrix(y_test, predict)\n",
        "\n",
        "# Visualisasi matrix confusion menggunakan heatmap\n",
        "plt.figure(figsize=(8, 6))\n",
        "sns.heatmap(conf_matrix, annot=True, cmap='Blues', fmt='g')\n",
        "plt.xlabel('Predicted labels')\n",
        "plt.ylabel('True labels')\n",
        "plt.title('Confusion Matrix')\n",
        "plt.show()\n"
      ],
      "metadata": {
        "colab": {
          "base_uri": "https://localhost:8080/",
          "height": 564
        },
        "id": "KoQ86MRdJOz3",
        "outputId": "8f85b079-8dc8-4a01-9495-c836e24036ef"
      },
      "execution_count": null,
      "outputs": [
        {
          "output_type": "display_data",
          "data": {
            "text/plain": [
              "<Figure size 800x600 with 2 Axes>"
            ],
            "image/png": "[encoded data removed]"
          },
          "metadata": {}
        }
      ]
    },
    {
      "cell_type": "markdown",
      "source": [
        "## Percobaan 3\n",
        "*   1 hidden layer dengan 3 neuron\n",
        "*   learning rate = 0.1\n",
        "* max epoch = 500\n",
        "* max error = 0.1\n",
        "\n",
        "akurasi = 0.8981132075471698 dengan 500 epoch yang dijalankan"
      ],
      "metadata": {
        "id": "kANaWImRKfaT"
      }
    },
    {
      "cell_type": "code",
      "source": [
        "from sklearn import datasets\n",
        "from sklearn.model_selection import train_test_split\n",
        "from sklearn.preprocessing import minmax_scale\n",
        "from sklearn.metrics import accuracy_score\n",
        "\n",
        "X = minmax_scale(normalized_data)\n",
        "Y = onehot_enc_str(label)\n",
        "\n",
        "X_train, X_test, y_train, y_test = train_test_split(X, Y, test_size=.25,random_state=30)\n",
        "w, ep, mse = bp_fit(X_train, y_train, layer_conf=(7, 3, 3), learn_rate=.1, max_epoch=500, max_error=.1, print_per_epoch=25)\n",
        "\n",
        "print(f'Epochs: {ep}, MSE: {mse}')\n",
        "\n",
        "predict = bp_predict(X_test, w)\n",
        "predict = onehot_dec_str(predict,label.unique())\n",
        "y_test = onehot_dec_str(y_test,label.unique())\n",
        "accuracy = accuracy_score(predict, y_test)\n",
        "\n",
        "print('Output:', predict)\n",
        "print('True :', y_test)\n",
        "print('Accuracy:', accuracy)"
      ],
      "metadata": {
        "colab": {
          "base_uri": "https://localhost:8080/"
        },
        "id": "xHl05xqzKkYe",
        "outputId": "f0b87eb2-10fa-4c00-8933-41ca74b362d4"
      },
      "execution_count": null,
      "outputs": [
        {
          "output_type": "stream",
          "name": "stderr",
          "text": [
            "<ipython-input-9-7b59625a484b>:8: VisibleDeprecationWarning: Creating an ndarray from ragged nested sequences (which is a list-or-tuple of lists-or-tuples-or ndarrays with different lengths or shapes) is deprecated. If you meant to do this, you must specify 'dtype=object' when creating the ndarray.\n",
            "  w = np.array([np.random.rand(layer_conf[i] + 1, layer_conf[i + 1]) for i in range(len(layer_conf) - 1)])\n",
            "<ipython-input-9-7b59625a484b>:37: VisibleDeprecationWarning: Creating an ndarray from ragged nested sequences (which is a list-or-tuple of lists-or-tuples-or ndarrays with different lengths or shapes) is deprecated. If you meant to do this, you must specify 'dtype=object' when creating the ndarray.\n",
            "  w += dw\n"
          ]
        },
        {
          "output_type": "stream",
          "name": "stdout",
          "text": [
            "Epoch 25, MSE: 0.36456890120090396\n",
            "Epoch 50, MSE: 0.2678167996609215\n",
            "Epoch 75, MSE: 0.22380746128804838\n",
            "Epoch 100, MSE: 0.19740105565019556\n",
            "Epoch 125, MSE: 0.18173948435690454\n",
            "Epoch 150, MSE: 0.17280010568769785\n",
            "Epoch 175, MSE: 0.16679942172161003\n",
            "Epoch 200, MSE: 0.1610989869044528\n",
            "Epoch 225, MSE: 0.14797052469073943\n",
            "Epoch 250, MSE: 0.14028877872479964\n",
            "Epoch 275, MSE: 0.1354450918086572\n",
            "Epoch 300, MSE: 0.1319411430704718\n",
            "Epoch 325, MSE: 0.12941808296033008\n",
            "Epoch 350, MSE: 0.12750920756658224\n",
            "Epoch 375, MSE: 0.12598887755395846\n",
            "Epoch 400, MSE: 0.12473491495693827\n",
            "Epoch 425, MSE: 0.12367420708979412\n",
            "Epoch 450, MSE: 0.12275930526940206\n",
            "Epoch 475, MSE: 0.12195769875934295\n",
            "Epoch 500, MSE: 0.12124621323682992\n",
            "Waktu eksekusi: 41.85011959075928 detik\n",
            "Epochs: 500, MSE: 0.12124621323682992\n",
            "Output: ['low', 'low', 'low', 'high', 'high', 'medium', 'low', 'medium', 'low', 'high', 'low', 'medium', 'low', 'medium', 'high', 'high', 'medium', 'medium', 'medium', 'high', 'medium', 'high', 'medium', 'low', 'low', 'low', 'low', 'low', 'low', 'low', 'medium', 'low', 'high', 'high', 'medium', 'low', 'medium', 'low', 'high', 'high', 'low', 'low', 'high', 'medium', 'medium', 'medium', 'high', 'high', 'high', 'low', 'medium', 'low', 'medium', 'low', 'high', 'low', 'medium', 'high', 'medium', 'high', 'medium', 'low', 'low', 'low', 'low', 'low', 'low', 'low', 'low', 'medium', 'high', 'low', 'low', 'high', 'low', 'low', 'high', 'low', 'low', 'low', 'medium', 'medium', 'medium', 'low', 'low', 'low', 'low', 'medium', 'low', 'low', 'low', 'high', 'low', 'low', 'high', 'medium', 'medium', 'high', 'low', 'low', 'medium', 'low', 'medium', 'low', 'medium', 'medium', 'medium', 'low', 'high', 'medium', 'medium', 'low', 'low', 'low', 'medium', 'medium', 'medium', 'low', 'medium', 'low', 'low', 'high', 'high', 'medium', 'low', 'medium', 'medium', 'low', 'low', 'medium', 'medium', 'medium', 'medium', 'high', 'low', 'high', 'medium', 'medium', 'medium', 'high', 'low', 'low', 'medium', 'medium', 'low', 'high', 'low', 'low', 'high', 'high', 'medium', 'high', 'medium', 'high', 'low', 'high', 'low', 'high', 'low', 'medium', 'low', 'high', 'high', 'medium', 'medium', 'medium', 'low', 'low', 'medium', 'high', 'medium', 'medium', 'low', 'low', 'low', 'medium', 'high', 'low', 'low', 'low', 'high', 'high', 'low', 'medium', 'medium', 'high', 'medium', 'low', 'medium', 'medium', 'medium', 'low', 'medium', 'medium', 'high', 'medium', 'high', 'low', 'high', 'high', 'high', 'low', 'low', 'high', 'low', 'low', 'medium', 'low', 'high', 'medium', 'medium', 'medium', 'low', 'high', 'high', 'medium', 'high', 'high', 'medium', 'medium', 'low', 'low', 'medium', 'low', 'low', 'high', 'low', 'high', 'low', 'medium', 'low', 'low', 'low', 'low', 'low', 'low', 'high', 'high', 'high', 'low', 'medium', 'low', 'low', 'low', 'medium', 'medium', 'low', 'low', 'high', 'low', 'medium', 'low', 'high', 'low', 'medium', 'medium', 'low', 'medium', 'medium', 'high', 'high', 'high', 'low', 'high', 'medium']\n",
            "True : ['low', 'low', 'low', 'high', 'high', 'low', 'low', 'medium', 'low', 'medium', 'low', 'low', 'low', 'medium', 'high', 'high', 'high', 'medium', 'low', 'high', 'medium', 'medium', 'medium', 'low', 'low', 'low', 'low', 'low', 'low', 'low', 'medium', 'low', 'high', 'high', 'medium', 'low', 'medium', 'low', 'high', 'high', 'low', 'low', 'high', 'medium', 'medium', 'medium', 'high', 'high', 'high', 'low', 'medium', 'high', 'low', 'low', 'high', 'low', 'medium', 'high', 'medium', 'high', 'medium', 'low', 'low', 'low', 'low', 'low', 'low', 'low', 'low', 'medium', 'high', 'low', 'low', 'high', 'low', 'low', 'high', 'low', 'low', 'low', 'medium', 'medium', 'medium', 'low', 'low', 'low', 'low', 'medium', 'low', 'low', 'low', 'high', 'low', 'low', 'high', 'medium', 'medium', 'high', 'low', 'low', 'medium', 'low', 'medium', 'low', 'medium', 'medium', 'medium', 'low', 'high', 'medium', 'low', 'low', 'low', 'low', 'medium', 'high', 'medium', 'low', 'medium', 'low', 'low', 'high', 'high', 'medium', 'low', 'medium', 'medium', 'low', 'low', 'medium', 'medium', 'medium', 'medium', 'high', 'low', 'high', 'medium', 'high', 'medium', 'high', 'low', 'low', 'medium', 'medium', 'low', 'high', 'low', 'low', 'high', 'high', 'high', 'medium', 'medium', 'medium', 'low', 'high', 'low', 'high', 'low', 'medium', 'low', 'high', 'high', 'medium', 'medium', 'low', 'low', 'high', 'medium', 'high', 'medium', 'low', 'low', 'low', 'low', 'medium', 'high', 'low', 'low', 'low', 'medium', 'high', 'low', 'medium', 'medium', 'high', 'high', 'low', 'medium', 'medium', 'medium', 'low', 'medium', 'medium', 'high', 'medium', 'high', 'low', 'high', 'medium', 'high', 'low', 'low', 'medium', 'low', 'low', 'medium', 'low', 'high', 'low', 'medium', 'medium', 'low', 'high', 'medium', 'medium', 'high', 'high', 'medium', 'medium', 'low', 'low', 'medium', 'low', 'low', 'high', 'low', 'high', 'medium', 'medium', 'low', 'low', 'low', 'low', 'low', 'low', 'high', 'high', 'high', 'low', 'medium', 'low', 'low', 'low', 'medium', 'medium', 'low', 'low', 'high', 'low', 'medium', 'low', 'high', 'low', 'medium', 'medium', 'low', 'low', 'medium', 'medium', 'high', 'high', 'low', 'medium', 'medium']\n",
            "Accuracy: 0.8981132075471698\n"
          ]
        }
      ]
    },
    {
      "cell_type": "code",
      "source": [
        "from sklearn.metrics import classification_report\n",
        "\n",
        "report = classification_report(y_test, predict)\n",
        "\n",
        "print(report)\n"
      ],
      "metadata": {
        "colab": {
          "base_uri": "https://localhost:8080/"
        },
        "id": "5wAkwxtUKq67",
        "outputId": "546237cc-6adf-420e-b9c7-2a13aec369a8"
      },
      "execution_count": null,
      "outputs": [
        {
          "output_type": "stream",
          "name": "stdout",
          "text": [
            "              precision    recall  f1-score   support\n",
            "\n",
            "        high       0.85      0.89      0.87        63\n",
            "         low       0.97      0.92      0.95       118\n",
            "      medium       0.84      0.87      0.85        84\n",
            "\n",
            "    accuracy                           0.90       265\n",
            "   macro avg       0.89      0.89      0.89       265\n",
            "weighted avg       0.90      0.90      0.90       265\n",
            "\n"
          ]
        }
      ]
    },
    {
      "cell_type": "code",
      "source": [
        "from sklearn.metrics import confusion_matrix\n",
        "import seaborn as sns\n",
        "import matplotlib.pyplot as plt\n",
        "\n",
        "# Anda memiliki predict (hasil prediksi) dan y_test (label sebenarnya)\n",
        "\n",
        "# Membuat matrix confusion\n",
        "conf_matrix = confusion_matrix(y_test, predict)\n",
        "\n",
        "# Visualisasi matrix confusion menggunakan heatmap\n",
        "plt.figure(figsize=(8, 6))\n",
        "sns.heatmap(conf_matrix, annot=True, cmap='Blues', fmt='g')\n",
        "plt.xlabel('Predicted labels')\n",
        "plt.ylabel('True labels')\n",
        "plt.title('Confusion Matrix')\n",
        "plt.show()\n"
      ],
      "metadata": {
        "colab": {
          "base_uri": "https://localhost:8080/",
          "height": 564
        },
        "id": "IfgMHURvKsTW",
        "outputId": "ffb8b165-f30c-4377-8bee-4487bdcff1ca"
      },
      "execution_count": null,
      "outputs": [
        {
          "output_type": "display_data",
          "data": {
            "text/plain": [
              "<Figure size 800x600 with 2 Axes>"
            ],
            "image/png": "[encoded data removed]"
          },
          "metadata": {}
        }
      ]
    },
    {
      "cell_type": "markdown",
      "source": [
        "## Percobaan 4\n",
        "*   1 hidden layer dengan 5 neuron\n",
        "*   learning rate = 0.1\n",
        "* max epoch = 100\n",
        "* max error = 0.1\n",
        "\n",
        "akurasi = 0.9622641509433962 dengan 100 epoch yang dijalankan"
      ],
      "metadata": {
        "id": "-TI5cP_K0vAb"
      }
    },
    {
      "cell_type": "code",
      "source": [
        "from sklearn import datasets\n",
        "from sklearn.model_selection import train_test_split\n",
        "from sklearn.preprocessing import minmax_scale\n",
        "from sklearn.metrics import accuracy_score\n",
        "\n",
        "X = minmax_scale(normalized_data)\n",
        "Y = onehot_enc_str(label)\n",
        "\n",
        "X_train, X_test, y_train, y_test = train_test_split(X, Y, test_size=.25,random_state=30)\n",
        "w, ep, mse = bp_fit(X_train, y_train, layer_conf=(7, 5, 3), learn_rate=.1, max_epoch=100, max_error=.1, print_per_epoch=25)\n",
        "\n",
        "print(f'Epochs: {ep}, MSE: {mse}')\n",
        "\n",
        "predict = bp_predict(X_test, w)\n",
        "predict = onehot_dec_str(predict,label.unique())\n",
        "y_test = onehot_dec_str(y_test,label.unique())\n",
        "accuracy = accuracy_score(predict, y_test)\n",
        "\n",
        "print('Output:', predict)\n",
        "print('True :', y_test)\n",
        "print('Accuracy:', accuracy)"
      ],
      "metadata": {
        "colab": {
          "base_uri": "https://localhost:8080/"
        },
        "id": "GoOcUIVR0tuK",
        "outputId": "e41d0e87-6259-46b9-c90c-fd344b2885e2"
      },
      "execution_count": null,
      "outputs": [
        {
          "output_type": "stream",
          "name": "stderr",
          "text": [
            "<ipython-input-9-7b59625a484b>:8: VisibleDeprecationWarning: Creating an ndarray from ragged nested sequences (which is a list-or-tuple of lists-or-tuples-or ndarrays with different lengths or shapes) is deprecated. If you meant to do this, you must specify 'dtype=object' when creating the ndarray.\n",
            "  w = np.array([np.random.rand(layer_conf[i] + 1, layer_conf[i + 1]) for i in range(len(layer_conf) - 1)])\n",
            "<ipython-input-9-7b59625a484b>:37: VisibleDeprecationWarning: Creating an ndarray from ragged nested sequences (which is a list-or-tuple of lists-or-tuples-or ndarrays with different lengths or shapes) is deprecated. If you meant to do this, you must specify 'dtype=object' when creating the ndarray.\n",
            "  w += dw\n"
          ]
        },
        {
          "output_type": "stream",
          "name": "stdout",
          "text": [
            "Epoch 25, MSE: 0.33401155703290425\n",
            "Epoch 50, MSE: 0.22152029994408898\n",
            "Epoch 75, MSE: 0.1499417990461142\n",
            "Epoch 100, MSE: 0.11001035232843821\n",
            "Waktu eksekusi: 11.596190452575684 detik\n",
            "Epochs: 100, MSE: 0.11001035232843821\n",
            "Output: ['low', 'low', 'low', 'high', 'high', 'low', 'low', 'medium', 'low', 'high', 'low', 'low', 'low', 'medium', 'high', 'high', 'high', 'medium', 'low', 'high', 'medium', 'high', 'medium', 'low', 'low', 'low', 'low', 'low', 'low', 'low', 'medium', 'low', 'high', 'high', 'medium', 'low', 'medium', 'low', 'high', 'high', 'low', 'low', 'high', 'medium', 'medium', 'medium', 'high', 'high', 'high', 'low', 'medium', 'high', 'low', 'low', 'high', 'low', 'medium', 'high', 'medium', 'high', 'medium', 'low', 'low', 'low', 'low', 'low', 'low', 'low', 'low', 'medium', 'high', 'low', 'low', 'high', 'low', 'low', 'high', 'low', 'low', 'low', 'medium', 'medium', 'medium', 'low', 'low', 'low', 'low', 'medium', 'low', 'low', 'low', 'high', 'low', 'low', 'high', 'medium', 'medium', 'high', 'low', 'low', 'medium', 'low', 'medium', 'low', 'medium', 'medium', 'medium', 'low', 'high', 'medium', 'low', 'low', 'low', 'low', 'medium', 'high', 'medium', 'low', 'medium', 'low', 'low', 'high', 'high', 'medium', 'low', 'medium', 'medium', 'low', 'low', 'medium', 'medium', 'medium', 'medium', 'high', 'low', 'high', 'medium', 'high', 'medium', 'high', 'low', 'low', 'medium', 'medium', 'low', 'high', 'low', 'low', 'high', 'high', 'high', 'high', 'medium', 'high', 'low', 'high', 'low', 'high', 'low', 'medium', 'low', 'high', 'high', 'medium', 'medium', 'low', 'low', 'high', 'medium', 'high', 'medium', 'low', 'low', 'low', 'low', 'medium', 'high', 'low', 'low', 'low', 'high', 'high', 'low', 'medium', 'medium', 'high', 'high', 'low', 'medium', 'medium', 'medium', 'low', 'medium', 'medium', 'high', 'medium', 'high', 'low', 'high', 'high', 'high', 'low', 'low', 'high', 'low', 'low', 'medium', 'low', 'high', 'low', 'medium', 'medium', 'low', 'high', 'high', 'medium', 'high', 'high', 'medium', 'medium', 'low', 'low', 'medium', 'low', 'low', 'high', 'low', 'high', 'medium', 'medium', 'low', 'low', 'low', 'low', 'low', 'low', 'high', 'high', 'high', 'low', 'medium', 'low', 'low', 'low', 'medium', 'medium', 'low', 'low', 'high', 'low', 'medium', 'low', 'high', 'low', 'medium', 'medium', 'low', 'low', 'medium', 'high', 'high', 'high', 'low', 'high', 'medium']\n",
            "True : ['low', 'low', 'low', 'high', 'high', 'low', 'low', 'medium', 'low', 'medium', 'low', 'low', 'low', 'medium', 'high', 'high', 'high', 'medium', 'low', 'high', 'medium', 'medium', 'medium', 'low', 'low', 'low', 'low', 'low', 'low', 'low', 'medium', 'low', 'high', 'high', 'medium', 'low', 'medium', 'low', 'high', 'high', 'low', 'low', 'high', 'medium', 'medium', 'medium', 'high', 'high', 'high', 'low', 'medium', 'high', 'low', 'low', 'high', 'low', 'medium', 'high', 'medium', 'high', 'medium', 'low', 'low', 'low', 'low', 'low', 'low', 'low', 'low', 'medium', 'high', 'low', 'low', 'high', 'low', 'low', 'high', 'low', 'low', 'low', 'medium', 'medium', 'medium', 'low', 'low', 'low', 'low', 'medium', 'low', 'low', 'low', 'high', 'low', 'low', 'high', 'medium', 'medium', 'high', 'low', 'low', 'medium', 'low', 'medium', 'low', 'medium', 'medium', 'medium', 'low', 'high', 'medium', 'low', 'low', 'low', 'low', 'medium', 'high', 'medium', 'low', 'medium', 'low', 'low', 'high', 'high', 'medium', 'low', 'medium', 'medium', 'low', 'low', 'medium', 'medium', 'medium', 'medium', 'high', 'low', 'high', 'medium', 'high', 'medium', 'high', 'low', 'low', 'medium', 'medium', 'low', 'high', 'low', 'low', 'high', 'high', 'high', 'medium', 'medium', 'medium', 'low', 'high', 'low', 'high', 'low', 'medium', 'low', 'high', 'high', 'medium', 'medium', 'low', 'low', 'high', 'medium', 'high', 'medium', 'low', 'low', 'low', 'low', 'medium', 'high', 'low', 'low', 'low', 'medium', 'high', 'low', 'medium', 'medium', 'high', 'high', 'low', 'medium', 'medium', 'medium', 'low', 'medium', 'medium', 'high', 'medium', 'high', 'low', 'high', 'medium', 'high', 'low', 'low', 'medium', 'low', 'low', 'medium', 'low', 'high', 'low', 'medium', 'medium', 'low', 'high', 'medium', 'medium', 'high', 'high', 'medium', 'medium', 'low', 'low', 'medium', 'low', 'low', 'high', 'low', 'high', 'medium', 'medium', 'low', 'low', 'low', 'low', 'low', 'low', 'high', 'high', 'high', 'low', 'medium', 'low', 'low', 'low', 'medium', 'medium', 'low', 'low', 'high', 'low', 'medium', 'low', 'high', 'low', 'medium', 'medium', 'low', 'low', 'medium', 'medium', 'high', 'high', 'low', 'medium', 'medium']\n",
            "Accuracy: 0.9622641509433962\n"
          ]
        }
      ]
    },
    {
      "cell_type": "code",
      "source": [
        "from sklearn.metrics import classification_report\n",
        "\n",
        "report = classification_report(y_test, predict)\n",
        "\n",
        "print(report)\n"
      ],
      "metadata": {
        "colab": {
          "base_uri": "https://localhost:8080/"
        },
        "id": "qWRSZVpJ1IrP",
        "outputId": "a88a86b8-be14-4c45-b1b9-80899d893f0c"
      },
      "execution_count": null,
      "outputs": [
        {
          "output_type": "stream",
          "name": "stdout",
          "text": [
            "              precision    recall  f1-score   support\n",
            "\n",
            "        high       0.86      1.00      0.93        63\n",
            "         low       1.00      1.00      1.00       118\n",
            "      medium       1.00      0.88      0.94        84\n",
            "\n",
            "    accuracy                           0.96       265\n",
            "   macro avg       0.95      0.96      0.95       265\n",
            "weighted avg       0.97      0.96      0.96       265\n",
            "\n"
          ]
        }
      ]
    },
    {
      "cell_type": "code",
      "source": [
        "from sklearn.metrics import confusion_matrix\n",
        "import seaborn as sns\n",
        "import matplotlib.pyplot as plt\n",
        "\n",
        "# Anda memiliki predict (hasil prediksi) dan y_test (label sebenarnya)\n",
        "\n",
        "# Membuat matrix confusion\n",
        "conf_matrix = confusion_matrix(y_test, predict)\n",
        "\n",
        "# Visualisasi matrix confusion menggunakan heatmap\n",
        "plt.figure(figsize=(8, 6))\n",
        "sns.heatmap(conf_matrix, annot=True, cmap='Blues', fmt='g')\n",
        "plt.xlabel('Predicted labels')\n",
        "plt.ylabel('True labels')\n",
        "plt.title('Confusion Matrix')\n",
        "plt.show()\n"
      ],
      "metadata": {
        "colab": {
          "base_uri": "https://localhost:8080/",
          "height": 564
        },
        "id": "vmvyTqj21KOb",
        "outputId": "82c2b13a-80b8-41d3-e2fe-2ae3f9aa326d"
      },
      "execution_count": null,
      "outputs": [
        {
          "output_type": "display_data",
          "data": {
            "text/plain": [
              "<Figure size 800x600 with 2 Axes>"
            ],
            "image/png": "[encoded data removed]"
          },
          "metadata": {}
        }
      ]
    }
  ]
}